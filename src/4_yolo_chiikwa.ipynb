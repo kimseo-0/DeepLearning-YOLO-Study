{
 "cells": [
  {
   "cell_type": "code",
   "execution_count": 4,
   "id": "f7a33696",
   "metadata": {},
   "outputs": [],
   "source": [
    "from dotenv import load_dotenv\n",
    "import os\n",
    "\n",
    "load_dotenv()\n",
    "\n",
    "ROBOFLOW_API_KEY = os.environ.get('ROBOFLOW_API_KEY')"
   ]
  },
  {
   "cell_type": "markdown",
   "id": "5345af7d",
   "metadata": {},
   "source": [
    "# 1. 데이터셋 불러오기"
   ]
  },
  {
   "cell_type": "code",
   "execution_count": 9,
   "id": "86faf82f",
   "metadata": {},
   "outputs": [
    {
     "name": "stdout",
     "output_type": "stream",
     "text": [
      "loading Roboflow workspace...\n",
      "loading Roboflow project...\n"
     ]
    },
    {
     "name": "stderr",
     "output_type": "stream",
     "text": [
      "Downloading Dataset Version Zip in Chiikawa-doll-rebbit-smallba--1 to yolov11:: 100%|██████████| 23969/23969 [00:02<00:00, 9773.14it/s] "
     ]
    },
    {
     "name": "stdout",
     "output_type": "stream",
     "text": [
      "\n"
     ]
    },
    {
     "name": "stderr",
     "output_type": "stream",
     "text": [
      "\n",
      "Extracting Dataset Version Zip to Chiikawa-doll-rebbit-smallba--1 in yolov11:: 100%|██████████| 984/984 [00:00<00:00, 2288.14it/s]\n"
     ]
    }
   ],
   "source": [
    "from roboflow import Roboflow\n",
    "\n",
    "rf = Roboflow(api_key=ROBOFLOW_API_KEY)\n",
    "project = rf.workspace(\"hayley-kim-6vkvh\").project(\"chiikawa-doll-rebbit-smallba-cjhim\")\n",
    "version = project.version(1)\n",
    "dataset = version.download(\"yolov11\")"
   ]
  },
  {
   "cell_type": "markdown",
   "id": "78b9f462",
   "metadata": {},
   "source": [
    "# 2. 모델 불러오기"
   ]
  },
  {
   "cell_type": "code",
   "execution_count": 12,
   "id": "a11adb14",
   "metadata": {},
   "outputs": [],
   "source": [
    "data_path = \"C:\\Potenup\\DeepLearning-YOLO-Study\\src\\Chiikawa-doll-rebbit-smallba--1\\data.yaml\"\n",
    "model_path = \"C:\\Potenup\\DeepLearning-YOLO-Study\\models\\yolo11n.pt\""
   ]
  },
  {
   "cell_type": "code",
   "execution_count": 13,
   "id": "935024ec",
   "metadata": {},
   "outputs": [],
   "source": [
    "from ultralytics import YOLO\n",
    "\n",
    "# model = YOLO(data_path) # 새로운 데이터로 완전히 다시 학습\n",
    "model = YOLO(model_path) # YOLO 의 모델을 그대로 사용하고, YOLO의 가중치를 사용, 내 데이터로 파인튜닝(가중치 업데이트)\n",
    "# model = YOLO(data_path).load(model_path) # YOLO의 가중치를 가져와서, 새로 만든 모델에 적용"
   ]
  },
  {
   "cell_type": "markdown",
   "id": "6cceabc6",
   "metadata": {},
   "source": [
    "# 3. 학습하기"
   ]
  },
  {
   "cell_type": "code",
   "execution_count": 17,
   "id": "ae53c1c2",
   "metadata": {},
   "outputs": [
    {
     "name": "stdout",
     "output_type": "stream",
     "text": [
      "Ultralytics 8.3.191  Python-3.10.18 torch-2.8.0+cpu CPU (Intel Core(TM) Ultra 9 185H)\n",
      "\u001b[34m\u001b[1mengine\\trainer: \u001b[0magnostic_nms=False, amp=True, augment=False, auto_augment=randaugment, batch=16, bgr=0.0, box=7.5, cache=False, cfg=None, classes=None, close_mosaic=10, cls=0.5, conf=None, copy_paste=0.0, copy_paste_mode=flip, cos_lr=False, cutmix=0.0, data=C:\\Potenup\\DeepLearning-YOLO-Study\\src\\Chiikawa-doll-rebbit-smallba--1\\data.yaml, degrees=0.0, deterministic=True, device=cpu, dfl=1.5, dnn=False, dropout=0.0, dynamic=False, embed=None, epochs=10, erasing=0.4, exist_ok=False, fliplr=0.5, flipud=0.0, format=torchscript, fraction=1.0, freeze=None, half=False, hsv_h=0.015, hsv_s=0.7, hsv_v=0.4, imgsz=640, int8=False, iou=0.7, keras=False, kobj=1.0, line_width=None, lr0=0.01, lrf=0.01, mask_ratio=4, max_det=300, mixup=0.0, mode=train, model=C:\\Potenup\\DeepLearning-YOLO-Study\\models\\yolo11n.pt, momentum=0.937, mosaic=1.0, multi_scale=False, name=train134, nbs=64, nms=False, opset=None, optimize=False, optimizer=auto, overlap_mask=True, patience=100, perspective=0.0, plots=True, pose=12.0, pretrained=True, profile=False, project=None, rect=False, resume=False, retina_masks=False, save=True, save_conf=False, save_crop=False, save_dir=C:\\Potenup\\DeepLearning-YOLO-Study\\runs\\detect\\train134, save_frames=False, save_json=False, save_period=-1, save_txt=False, scale=0.5, seed=0, shear=0.0, show=False, show_boxes=True, show_conf=True, show_labels=True, simplify=True, single_cls=False, source=None, split=val, stream_buffer=False, task=detect, time=None, tracker=botsort.yaml, translate=0.1, val=True, verbose=True, vid_stride=1, visualize=False, warmup_bias_lr=0.0, warmup_epochs=3.0, warmup_momentum=0.8, weight_decay=0.0005, workers=0, workspace=None\n",
      "\n",
      "                   from  n    params  module                                       arguments                     \n",
      "  0                  -1  1       464  ultralytics.nn.modules.conv.Conv             [3, 16, 3, 2]                 \n",
      "  1                  -1  1      4672  ultralytics.nn.modules.conv.Conv             [16, 32, 3, 2]                \n",
      "  2                  -1  1      6640  ultralytics.nn.modules.block.C3k2            [32, 64, 1, False, 0.25]      \n",
      "  3                  -1  1     36992  ultralytics.nn.modules.conv.Conv             [64, 64, 3, 2]                \n",
      "  4                  -1  1     26080  ultralytics.nn.modules.block.C3k2            [64, 128, 1, False, 0.25]     \n",
      "  5                  -1  1    147712  ultralytics.nn.modules.conv.Conv             [128, 128, 3, 2]              \n",
      "  6                  -1  1     87040  ultralytics.nn.modules.block.C3k2            [128, 128, 1, True]           \n",
      "  7                  -1  1    295424  ultralytics.nn.modules.conv.Conv             [128, 256, 3, 2]              \n",
      "  8                  -1  1    346112  ultralytics.nn.modules.block.C3k2            [256, 256, 1, True]           \n",
      "  9                  -1  1    164608  ultralytics.nn.modules.block.SPPF            [256, 256, 5]                 \n",
      " 10                  -1  1    249728  ultralytics.nn.modules.block.C2PSA           [256, 256, 1]                 \n",
      " 11                  -1  1         0  torch.nn.modules.upsampling.Upsample         [None, 2, 'nearest']          \n",
      " 12             [-1, 6]  1         0  ultralytics.nn.modules.conv.Concat           [1]                           \n",
      " 13                  -1  1    111296  ultralytics.nn.modules.block.C3k2            [384, 128, 1, False]          \n",
      " 14                  -1  1         0  torch.nn.modules.upsampling.Upsample         [None, 2, 'nearest']          \n",
      " 15             [-1, 4]  1         0  ultralytics.nn.modules.conv.Concat           [1]                           \n",
      " 16                  -1  1     32096  ultralytics.nn.modules.block.C3k2            [256, 64, 1, False]           \n",
      " 17                  -1  1     36992  ultralytics.nn.modules.conv.Conv             [64, 64, 3, 2]                \n",
      " 18            [-1, 13]  1         0  ultralytics.nn.modules.conv.Concat           [1]                           \n",
      " 19                  -1  1     86720  ultralytics.nn.modules.block.C3k2            [192, 128, 1, False]          \n",
      " 20                  -1  1    147712  ultralytics.nn.modules.conv.Conv             [128, 128, 3, 2]              \n",
      " 21            [-1, 10]  1         0  ultralytics.nn.modules.conv.Concat           [1]                           \n",
      " 22                  -1  1    378880  ultralytics.nn.modules.block.C3k2            [384, 256, 1, True]           \n",
      " 23        [16, 19, 22]  1    433207  ultralytics.nn.modules.head.Detect           [13, [64, 128, 256]]          \n",
      "YOLO11n summary: 181 layers, 2,592,375 parameters, 2,592,359 gradients, 6.5 GFLOPs\n",
      "\n",
      "Transferred 499/499 items from pretrained weights\n",
      "Freezing layer 'model.23.dfl.conv.weight'\n",
      "\u001b[34m\u001b[1mtrain: \u001b[0mFast image access  (ping: 0.00.0 ms, read: 250.5171.9 MB/s, size: 35.4 KB)\n",
      "\u001b[K\u001b[34m\u001b[1mtrain: \u001b[0mScanning C:\\Potenup\\DeepLearning-YOLO-Study\\src\\Chiikawa-doll-rebbit-smallba--1\\train\\labels.cache... 340 images, 1 backgrounds, 0 corrupt: 100% ━━━━━━━━━━━━ 340/340  0.0s\n",
      "\u001b[34m\u001b[1mval: \u001b[0mFast image access  (ping: 0.00.0 ms, read: 261.8283.7 MB/s, size: 36.0 KB)\n",
      "\u001b[K\u001b[34m\u001b[1mval: \u001b[0mScanning C:\\Potenup\\DeepLearning-YOLO-Study\\src\\Chiikawa-doll-rebbit-smallba--1\\valid\\labels.cache... 97 images, 1 backgrounds, 0 corrupt: 100% ━━━━━━━━━━━━ 97/97  0.0s\n",
      "Plotting labels to C:\\Potenup\\DeepLearning-YOLO-Study\\runs\\detect\\train134\\labels.jpg... \n",
      "\u001b[34m\u001b[1moptimizer:\u001b[0m 'optimizer=auto' found, ignoring 'lr0=0.01' and 'momentum=0.937' and determining best 'optimizer', 'lr0' and 'momentum' automatically... \n",
      "\u001b[34m\u001b[1moptimizer:\u001b[0m AdamW(lr=0.000588, momentum=0.9) with parameter groups 81 weight(decay=0.0), 88 weight(decay=0.0005), 87 bias(decay=0.0)\n",
      "Image sizes 640 train, 640 val\n",
      "Using 0 dataloader workers\n",
      "Logging results to \u001b[1mC:\\Potenup\\DeepLearning-YOLO-Study\\runs\\detect\\train134\u001b[0m\n",
      "Starting training for 10 epochs...\n",
      "Closing dataloader mosaic\n",
      "\n",
      "      Epoch    GPU_mem   box_loss   cls_loss   dfl_loss  Instances       Size\n",
      "\u001b[K       1/10         0G      2.083      3.206      2.205         26        640: 100% ━━━━━━━━━━━━ 22/22 0.34it/s 1:052.3s3s\n",
      "\u001b[K                 Class     Images  Instances      Box(P          R      mAP50  mAP50-95): 100% ━━━━━━━━━━━━ 4/4 0.62it/s 6.5s3.0ss\n",
      "                   all         97        424     0.0239      0.358     0.0644     0.0314\n",
      "\n",
      "      Epoch    GPU_mem   box_loss   cls_loss   dfl_loss  Instances       Size\n",
      "\u001b[K       2/10         0G      1.756      2.483      1.862         23        640: 100% ━━━━━━━━━━━━ 22/22 0.34it/s 1:052.3s9s\n",
      "\u001b[K                 Class     Images  Instances      Box(P          R      mAP50  mAP50-95): 100% ━━━━━━━━━━━━ 4/4 0.64it/s 6.3s3.0ss\n",
      "                   all         97        424      0.345      0.174      0.196       0.11\n",
      "\n",
      "      Epoch    GPU_mem   box_loss   cls_loss   dfl_loss  Instances       Size\n",
      "\u001b[K       3/10         0G      1.502      1.988      1.681         14        640: 100% ━━━━━━━━━━━━ 22/22 0.18it/s 2:024.8ss\n",
      "\u001b[K                 Class     Images  Instances      Box(P          R      mAP50  mAP50-95): 100% ━━━━━━━━━━━━ 4/4 0.25it/s 16.3s7.7ss\n",
      "                   all         97        424      0.648      0.408       0.47      0.243\n",
      "\n",
      "      Epoch    GPU_mem   box_loss   cls_loss   dfl_loss  Instances       Size\n",
      "\u001b[K       4/10         0G      1.429      1.853      1.634         41        640: 100% ━━━━━━━━━━━━ 22/22 0.15it/s 2:314.6ss\n",
      "\u001b[K                 Class     Images  Instances      Box(P          R      mAP50  mAP50-95): 100% ━━━━━━━━━━━━ 4/4 0.24it/s 16.5s7.7ss\n",
      "                   all         97        424      0.597      0.479      0.592       0.33\n",
      "\n",
      "      Epoch    GPU_mem   box_loss   cls_loss   dfl_loss  Instances       Size\n",
      "\u001b[K       5/10         0G      1.332      1.661      1.532          4        640: 100% ━━━━━━━━━━━━ 22/22 0.14it/s 2:364.9ss\n",
      "\u001b[K                 Class     Images  Instances      Box(P          R      mAP50  mAP50-95): 100% ━━━━━━━━━━━━ 4/4 0.24it/s 16.6s7.8ss\n",
      "                   all         97        424      0.694      0.487      0.586      0.374\n",
      "\n",
      "      Epoch    GPU_mem   box_loss   cls_loss   dfl_loss  Instances       Size\n",
      "\u001b[K       6/10         0G       1.23      1.537      1.475          4        640: 100% ━━━━━━━━━━━━ 22/22 0.14it/s 2:334.8ss\n",
      "\u001b[K                 Class     Images  Instances      Box(P          R      mAP50  mAP50-95): 100% ━━━━━━━━━━━━ 4/4 0.24it/s 16.4s7.7ss\n",
      "                   all         97        424      0.778      0.545      0.602      0.388\n",
      "\n",
      "      Epoch    GPU_mem   box_loss   cls_loss   dfl_loss  Instances       Size\n",
      "\u001b[K       7/10         0G      1.225      1.503      1.461         69        640: 100% ━━━━━━━━━━━━ 22/22 0.14it/s 2:344.9ss\n",
      "\u001b[K                 Class     Images  Instances      Box(P          R      mAP50  mAP50-95): 100% ━━━━━━━━━━━━ 4/4 0.24it/s 16.4s7.6ss\n",
      "                   all         97        424      0.639      0.626      0.642      0.403\n",
      "\n",
      "      Epoch    GPU_mem   box_loss   cls_loss   dfl_loss  Instances       Size\n",
      "\u001b[K       8/10         0G      1.184      1.377      1.401          9        640: 100% ━━━━━━━━━━━━ 22/22 0.14it/s 2:355.2ss\n",
      "\u001b[K                 Class     Images  Instances      Box(P          R      mAP50  mAP50-95): 100% ━━━━━━━━━━━━ 4/4 0.25it/s 16.3s7.6ss\n",
      "                   all         97        424      0.884      0.533      0.647      0.402\n",
      "\n",
      "      Epoch    GPU_mem   box_loss   cls_loss   dfl_loss  Instances       Size\n",
      "\u001b[K       9/10         0G      1.173      1.381      1.404         22        640: 100% ━━━━━━━━━━━━ 22/22 0.14it/s 2:345.0ss\n",
      "\u001b[K                 Class     Images  Instances      Box(P          R      mAP50  mAP50-95): 100% ━━━━━━━━━━━━ 4/4 0.24it/s 16.5s7.7ss\n",
      "                   all         97        424      0.866      0.547      0.644      0.407\n",
      "\n",
      "      Epoch    GPU_mem   box_loss   cls_loss   dfl_loss  Instances       Size\n",
      "\u001b[K      10/10         0G       1.18      1.418      1.448          4        640: 100% ━━━━━━━━━━━━ 22/22 0.16it/s 2:172.6ss\n",
      "\u001b[K                 Class     Images  Instances      Box(P          R      mAP50  mAP50-95): 100% ━━━━━━━━━━━━ 4/4 0.60it/s 6.7s3.0ss\n",
      "                   all         97        424      0.847      0.561      0.648      0.404\n",
      "\n",
      "10 epochs completed in 0.404 hours.\n",
      "Optimizer stripped from C:\\Potenup\\DeepLearning-YOLO-Study\\runs\\detect\\train134\\weights\\last.pt, 5.4MB\n",
      "Optimizer stripped from C:\\Potenup\\DeepLearning-YOLO-Study\\runs\\detect\\train134\\weights\\best.pt, 5.4MB\n",
      "\n",
      "Validating C:\\Potenup\\DeepLearning-YOLO-Study\\runs\\detect\\train134\\weights\\best.pt...\n",
      "Ultralytics 8.3.191  Python-3.10.18 torch-2.8.0+cpu CPU (Intel Core(TM) Ultra 9 185H)\n",
      "YOLO11n summary (fused): 100 layers, 2,584,687 parameters, 0 gradients, 6.3 GFLOPs\n",
      "\u001b[K                 Class     Images  Instances      Box(P          R      mAP50  mAP50-95): 100% ━━━━━━━━━━━━ 4/4 0.74it/s 5.4s2.6ss\n",
      "                   all         97        424      0.867      0.547      0.644      0.407\n",
      "                3dolls          2          2          1          0     0.0623     0.0249\n",
      "             Sea_otter          6          9      0.894      0.444      0.513      0.286\n",
      "                 Shisa          9          9      0.773      0.667      0.696      0.607\n",
      "                 anoko          3          3      0.895          1      0.995      0.453\n",
      "              chiikawa         33         80      0.715      0.362      0.593      0.406\n",
      "                 doll2          1          3          1          0     0.0155    0.00816\n",
      "                  fish          2          2      0.875          1      0.995      0.746\n",
      "                  kani          5          5      0.861        0.6      0.649      0.479\n",
      "                kurima         19         58      0.849      0.677      0.816      0.437\n",
      "                  momo         14         46      0.994       0.37      0.782      0.414\n",
      "              small ba         30         62      0.781      0.632      0.762      0.514\n",
      "                 usaki         38        145      0.771      0.814      0.847      0.507\n",
      "Speed: 0.7ms preprocess, 39.9ms inference, 0.0ms loss, 3.7ms postprocess per image\n",
      "Results saved to \u001b[1mC:\\Potenup\\DeepLearning-YOLO-Study\\runs\\detect\\train134\u001b[0m\n"
     ]
    }
   ],
   "source": [
    "results = model.train(data=data_path, epochs=10, imgsz=640, save=True)"
   ]
  },
  {
   "cell_type": "markdown",
   "id": "04d62656",
   "metadata": {},
   "source": [
    "# 4. 평가하기"
   ]
  },
  {
   "cell_type": "markdown",
   "id": "59910e41",
   "metadata": {},
   "source": [
    "## 최고 성능 모델 불러오기"
   ]
  },
  {
   "cell_type": "code",
   "execution_count": 18,
   "id": "b277b2c7",
   "metadata": {},
   "outputs": [],
   "source": [
    "load_model = YOLO(\"C:\\Potenup\\DeepLearning-YOLO-Study\\\\runs\\detect\\\\train134\\weights\\\\best.pt\")"
   ]
  },
  {
   "cell_type": "code",
   "execution_count": 19,
   "id": "479871ba",
   "metadata": {},
   "outputs": [
    {
     "name": "stdout",
     "output_type": "stream",
     "text": [
      "Ultralytics 8.3.191  Python-3.10.18 torch-2.8.0+cpu CPU (Intel Core(TM) Ultra 9 185H)\n",
      "YOLO11n summary (fused): 100 layers, 2,584,687 parameters, 0 gradients, 6.3 GFLOPs\n",
      "\u001b[34m\u001b[1mval: \u001b[0mFast image access  (ping: 0.00.0 ms, read: 402.0327.8 MB/s, size: 37.5 KB)\n",
      "\u001b[K\u001b[34m\u001b[1mval: \u001b[0mScanning C:\\Potenup\\DeepLearning-YOLO-Study\\src\\Chiikawa-doll-rebbit-smallba--1\\valid\\labels.cache... 97 images, 1 backgrounds, 0 corrupt: 100% ━━━━━━━━━━━━ 97/97  0.0s\n",
      "\u001b[K                 Class     Images  Instances      Box(P          R      mAP50  mAP50-95): 100% ━━━━━━━━━━━━ 7/7 1.7it/s 4.1s0.7sss\n",
      "                   all         97        424      0.861      0.556      0.652      0.406\n",
      "                3dolls          2          2          1          0     0.0831     0.0332\n",
      "             Sea_otter          6          9      0.916      0.444      0.523      0.286\n",
      "                 Shisa          9          9      0.756      0.667        0.7      0.609\n",
      "                 anoko          3          3       0.88          1      0.995       0.41\n",
      "              chiikawa         33         80      0.712      0.412      0.593      0.404\n",
      "                 doll2          1          3          1          0     0.0156    0.00823\n",
      "                  fish          2          2      0.873          1      0.995      0.746\n",
      "                  kani          5          5      0.838        0.6      0.651       0.48\n",
      "                kurima         19         58      0.855      0.714      0.838      0.445\n",
      "                  momo         14         46      0.946      0.383      0.793      0.419\n",
      "              small ba         30         62      0.755      0.647      0.767      0.515\n",
      "                 usaki         38        145      0.793      0.807      0.869      0.514\n",
      "Speed: 0.5ms preprocess, 32.4ms inference, 0.0ms loss, 1.7ms postprocess per image\n",
      "Results saved to \u001b[1mC:\\Potenup\\DeepLearning-YOLO-Study\\runs\\detect\\val3\u001b[0m\n"
     ]
    }
   ],
   "source": [
    "val_results = load_model.val(data=data_path, imgsz=640, iou=0.5, save=True)\n",
    "# conf(신뢰도 임계값) : 모델이 객체를 탐지했다고 판단하는 최소한의 신뢰도 값\n",
    "# iou(IoU (Intersection over Union) Threshold) : 탐지된 박스와 실제 정답 박스(Ground Truth)가 얼마나 겹치는지를 판단하는 임계값"
   ]
  },
  {
   "cell_type": "markdown",
   "id": "d7ca0d96",
   "metadata": {},
   "source": [
    "# 5. 사용하기"
   ]
  },
  {
   "cell_type": "code",
   "execution_count": 26,
   "id": "15741668",
   "metadata": {},
   "outputs": [
    {
     "name": "stdout",
     "output_type": "stream",
     "text": [
      "\n",
      "image 1/1 C:\\Potenup\\DeepLearning-YOLO-Study\\images\\chiikawa_test.jpeg: 640x640 1 chiikawa, 1 kurima, 1 momo, 2 small bas, 1 usaki, 71.3ms\n",
      "Speed: 3.0ms preprocess, 71.3ms inference, 0.6ms postprocess per image at shape (1, 3, 640, 640)\n",
      "Results saved to \u001b[1mC:\\Potenup\\DeepLearning-YOLO-Study\\runs\\detect\\predict5\u001b[0m\n"
     ]
    }
   ],
   "source": [
    "predict_results = load_model(\"C:\\Potenup\\DeepLearning-YOLO-Study\\images\\chiikawa_test.jpeg\", save=True)"
   ]
  },
  {
   "cell_type": "code",
   "execution_count": 27,
   "id": "0437bbf1",
   "metadata": {},
   "outputs": [],
   "source": [
    "predict_results[0].show()"
   ]
  },
  {
   "cell_type": "code",
   "execution_count": 25,
   "id": "41767126",
   "metadata": {},
   "outputs": [
    {
     "name": "stdout",
     "output_type": "stream",
     "text": [
      "small ba\n",
      "kurima\n",
      "momo\n",
      "usaki\n",
      "small ba\n",
      "chiikawa\n"
     ]
    }
   ],
   "source": [
    "class_names = predict_results[0].names\n",
    "\n",
    "for cls in predict_results[0].boxes.cls:\n",
    "    print(class_names[cls.item()])"
   ]
  }
 ],
 "metadata": {
  "kernelspec": {
   "display_name": "DeepLearning-YOLO-Study (3.10.18)",
   "language": "python",
   "name": "python3"
  },
  "language_info": {
   "codemirror_mode": {
    "name": "ipython",
    "version": 3
   },
   "file_extension": ".py",
   "mimetype": "text/x-python",
   "name": "python",
   "nbconvert_exporter": "python",
   "pygments_lexer": "ipython3",
   "version": "3.10.18"
  }
 },
 "nbformat": 4,
 "nbformat_minor": 5
}
